{
  "cells": [
    {
      "metadata": {
        "collapsed": true
      },
      "cell_type": "markdown",
      "source": "# 06B While You're Waiting (Beginner's Template)"
    },
    {
      "metadata": {},
      "cell_type": "markdown",
      "source": "## Preamble"
    },
    {
      "metadata": {},
      "cell_type": "markdown",
      "source": "Hi! Welcome to the CIGMAH Puzzle Hunt. If this is your first time programming in general, then we'd recommend you familiarise yourself with the basics of the Python language.\n\n[Here's a tutorial from the official Python website.](https://docs.python.org/3/tutorial/introduction.html) It's long, but you should end up with a good basis for understanding the language if you work through it. If you'd like to just jump in to the notebook - sure! We'll try to explain things as best as we can, but you might struggle at first if you're completely new to programming. There are some great beginner's resources out there that can lay down foundations which are necessary no matter what domain you apply coding in. We're in the process of gathering some more beginner-friendly resources so hopefully we can provide some direction if you're completely lost - let us know!"
    },
    {
      "metadata": {},
      "cell_type": "markdown",
      "source": "For those of you new to Jupyter notebooks - these notebooks are a way to mix some text with code that we can run. If a cell has a grey background (and you're in the Jupyter environment!), then you can probably run it - click inside it and press `Shift Enter`. Try it!"
    },
    {
      "metadata": {
        "trusted": true
      },
      "cell_type": "code",
      "source": "print(\"Hello, world!\")",
      "execution_count": 1,
      "outputs": [
        {
          "output_type": "stream",
          "text": "Hello, world!\n",
          "name": "stdout"
        }
      ]
    },
    {
      "metadata": {},
      "cell_type": "markdown",
      "source": "You should see `Hello, world!` printed below the code cell."
    },
    {
      "metadata": {},
      "cell_type": "markdown",
      "source": "If you're on Azure, you will need to login and clone this notebook. If you're on Binder, you should be able to run the notebook as is!"
    },
    {
      "metadata": {},
      "cell_type": "markdown",
      "source": "## Problem Summary"
    },
    {
      "metadata": {},
      "cell_type": "markdown",
      "source": "We'll be working through Puzzle No. 6 (Beginner) - \"While You're Waiting.\" \n\n[Here's a link to the puzzle.](https://cigmah.github.io/cgmnt/#/puzzles/6/)"
    },
    {
      "metadata": {},
      "cell_type": "markdown",
      "source": "In summary - we have a [CSV](https://en.wikipedia.org/wiki/Comma-separated_values) file full of form data from patients with [allergic rhinitis](https://en.wikipedia.org/wiki/Allergic_rhinitis) with the following columns:\n\n1. A patient ID,\n2. How many days per week symptoms occur,\n3. How many consecutive weeks symptoms have occurred for,\n4. Whether symptoms are troublesome,\n5. Whether sleep is disturbed,\n6. Whether daily activities, leisure and/or sport are impaired (we'll call these \"personal activities\" for shorthand), and\n7. Whether school or work is impaired (we'll call these \"work activities\" for shorthand)."
    },
    {
      "metadata": {
        "trusted": true
      },
      "cell_type": "markdown",
      "source": "We also have the following information on how allergic rhinitis is classified (which comes from the [Australian Asthma Handbook](https://www.asthmahandbook.org.au/table/show/54)):\n\n<br>\n\n\n\n```\nAllergic rhinitis symptoms are classified by DURATION AND SEVERITY.\n\n\nDURATION: \n\n+------------------------------------+------------------------------------+\n|            Intermittent            |            Persistent              |\n+------------------------------------+------------------------------------+\n| EITHER of                          | BOTH of                            |\n| 1. Symptoms < 4 days per week, OR  | 1. Symptoms >= 4 days per week     |\n| 2. Symptoms < 4 consecutive weeks. | 2. Symptoms >= 4 consecutive weeks |\n+------------------------------------+------------------------------------+\n\nSEVERITY:\n\n+---------------------------------+---------------------------------------------------------+\n|              Mild               |                   Moderate to Severe                    |\n+---------------------------------+---------------------------------------------------------+\n| NONE of the stuff on the right. | ANY (one or more) of:                                   |\n|                                 | 1. Troublesome symptoms                                 |\n|                                 | 2. Sleep disturbance                                    |\n|                                 | 3. Impairment of daily activities, leisure and/or sport |\n|                                 | 4. Impairment of school or work performance             |\n+---------------------------------+---------------------------------------------------------+\n\nThus, allergic rhinitis can be classified into four groups:\n\n1. Mild intermittent\n2. Mild persistent\n3. Moderate-to-severe intermittent\n4. Moderate-to-severe persistent\n```"
    },
    {
      "metadata": {
        "trusted": true
      },
      "cell_type": "markdown",
      "source": "Given this information, we've been asked the following question:\n\n<br>\n\n<center> <h3> How many patients in Dr Rhinal's list would be classified as having moderate-to-severe persistent allergic rhinitis? </h3> </center>\n\n<br>"
    },
    {
      "metadata": {},
      "cell_type": "markdown",
      "source": "## Approach"
    },
    {
      "metadata": {},
      "cell_type": "markdown",
      "source": "> Note: It's important you run all the grey code cells in this notebook in order. If you'd like, you can skip the text, but don't skip the grey cells - make sure to execute them (and, if they're an exercise cell with Fill in the Blanks or Fix the Error, you'll need to correctly modify it before executing it) by clicking inside them and pressing `Shift Enter`."
    },
    {
      "metadata": {},
      "cell_type": "markdown",
      "source": "Let's first have a look at our data. If you download the `.csv` on your computer, you'll likely be able to open it directly with Excel (and you could solve it from there too). However, we can also directly download the `.csv` file from its URL within Python and have it accessible for us to manipulate with code. \n\nThis is often more flexible than working with data in Excel for reasons such as:\n\n1. Python is a general programming language and you have whole power of Python to use for processing (including complex text processing, modelling, plotting etc.) - essentially, if you can do it in Excel, you can do it in Python.\n2. You can separate your analysis (which should be replicable and possibly generalisable) from your raw data file (which should, in our opinion, *not* be altered or *mutated* directly; only read into a program for processing into processed data). As a consequence of this, your analysis could be detached and provided as real-time feedback - for example, it would be fairly easy to actually make the form Dr Rhinal describes in the puzzle and have it automatically give the classification to the patient as soon as they submit.\n3. You can version control your analysis as it progress with tools like [Git](https://git-scm.com/) - meaning you can save the complete state of your work and roll back if you make any changes, as well as easily see the exact differences on a line-by-line level between files as you work.\n4. You are not tied to opening files in Excel and can handle much larger files, split things up, and automate your workflow.\n\nThere are many other reasons of course (as well as certain situations in which you might prefer to use Excel). This puzzle is simple enough that solving it in Excel would be fine, but we hope you can draw some parallels between a Python and Excel solution to see how your knowledge of Excel might already translate to programming."
    },
    {
      "metadata": {},
      "cell_type": "markdown",
      "source": "To load the data in Python, we'll use a popular library called [Pandas](https://pandas.pydata.org/), which provides a lot of useful tools for working with spreadsheet-like data (including `.csv` files).  In Pandas, the \"spreadsheet\" is called a *DataFrame* - a frame which holds data. We can read the `.csv` file into a variable as a DataFrame, then work with it like we would with any other variable in Python."
    },
    {
      "metadata": {},
      "cell_type": "markdown",
      "source": "First, we'll import the Pandas module as `pd` (a shorter name such as `pd` is quite common for libraries like Pandas as we may be using its tools quite a lot). "
    },
    {
      "metadata": {
        "trusted": true
      },
      "cell_type": "code",
      "source": "import pandas as pd",
      "execution_count": null,
      "outputs": []
    },
    {
      "metadata": {},
      "cell_type": "markdown",
      "source": "Next, we'll load the data. Pandas provides a function, `read_csv` which can read a `.csv` file straight from a URL (e.g. `https://www.example.com/example.csv`) or filepath (e.g. `myfolder/mycsv.csv`). We'll load it into a variable called `df` that holds the DataFrame object."
    },
    {
      "metadata": {},
      "cell_type": "markdown",
      "source": "The puzzle input is hosted at the link https://drive.google.com/open?id=1WfX4jj8XYS0rqM_9hr_idXHqFU49kcSd. We just need to change the \"open\" part of the link to \"uc\" to provide a direct download so Pandas can access the `.csv` file directly.\n\nSo we need to ask Pandas to call the `read_csv` function on https://drive.google.com/uc?id=1WfX4jj8XYS0rqM_9hr_idXHqFU49kcSd (note the \"uc\" in the middle). We'll put this link in a variable called `input_link`."
    },
    {
      "metadata": {},
      "cell_type": "markdown",
      "source": "Now that it's in the variable called `input_link`, we need to ask Pandas to read it - we just need to supply that variable to the read_csv function. Try it! The code below will give an error because `my_link` doesn't exist, but you should be able to make a very simple change so it reads the correct variable. Once you've changed it, execute it by clicking inside and pressing `Shift Enter` and hopefully it should run successfully!"
    },
    {
      "metadata": {},
      "cell_type": "markdown",
      "source": "> If this is your first time using Python - lines which start with `#` are \"comments\" - they aren't read by the computer, they're just there to help humans annotate the code with some useful words!"
    },
    {
      "metadata": {
        "trusted": true
      },
      "cell_type": "code",
      "source": "input_link = \"https://drive.google.com/uc?id=1WfX4jj8XYS0rqM_9hr_idXHqFU49kcSd\"\n\n# -----------------------------------------------------------------------------------------------\n# FIX THE ERROR\n#\n# The line below will currently cause an error. Change my_link so that it loads our actual input!\n# -----------------------------------------------------------------------------------------------\n\ndf = pd.read_csv(my_link)",
      "execution_count": null,
      "outputs": []
    },
    {
      "metadata": {},
      "cell_type": "markdown",
      "source": "Now that the data is loaded in the `df` variable, we can look at a few lines to see how it looks. \n\nTo access rows in Pandas, you index it using a syntax like `df.iloc[0]`. You can think of it like accessing the values of the dataframe at the \"0\" location (which is the first row). You can access more than one row at a time by inputting a range separated by a colon e.g. `df.iloc[0:5]`. This will access from the first value up until the last value (but not including it) - so `df.iloc[0:5]` will access the rows at location 0, 1, 2, 3 and 4 (i.e. the first 5 rows). If you leave out the first value, it's assumed to be 0 so `df.iloc[0:5]` can be written as `df.iloc[:5]`."
    },
    {
      "metadata": {},
      "cell_type": "markdown",
      "source": "So here are the first five rows of our data:"
    },
    {
      "metadata": {
        "trusted": true
      },
      "cell_type": "code",
      "source": "df.iloc[:5]",
      "execution_count": 3,
      "outputs": [
        {
          "output_type": "execute_result",
          "execution_count": 3,
          "data": {
            "text/html": "<div>\n<style scoped>\n    .dataframe tbody tr th:only-of-type {\n        vertical-align: middle;\n    }\n\n    .dataframe tbody tr th {\n        vertical-align: top;\n    }\n\n    .dataframe thead th {\n        text-align: right;\n    }\n</style>\n<table border=\"1\" class=\"dataframe\">\n  <thead>\n    <tr style=\"text-align: right;\">\n      <th></th>\n      <th>patient_id</th>\n      <th>symptoms_days_per_week</th>\n      <th>symptoms_consecutive_weeks</th>\n      <th>troublesome_symptoms</th>\n      <th>disturbed_sleep</th>\n      <th>personal_activities_impaired</th>\n      <th>work_impaired</th>\n    </tr>\n  </thead>\n  <tbody>\n    <tr>\n      <th>0</th>\n      <td>111146</td>\n      <td>5</td>\n      <td>5</td>\n      <td>False</td>\n      <td>False</td>\n      <td>False</td>\n      <td>False</td>\n    </tr>\n    <tr>\n      <th>1</th>\n      <td>557338</td>\n      <td>6</td>\n      <td>4</td>\n      <td>True</td>\n      <td>False</td>\n      <td>False</td>\n      <td>False</td>\n    </tr>\n    <tr>\n      <th>2</th>\n      <td>195382</td>\n      <td>3</td>\n      <td>3</td>\n      <td>False</td>\n      <td>False</td>\n      <td>False</td>\n      <td>False</td>\n    </tr>\n    <tr>\n      <th>3</th>\n      <td>815771</td>\n      <td>5</td>\n      <td>4</td>\n      <td>True</td>\n      <td>True</td>\n      <td>True</td>\n      <td>True</td>\n    </tr>\n    <tr>\n      <th>4</th>\n      <td>534257</td>\n      <td>5</td>\n      <td>5</td>\n      <td>False</td>\n      <td>False</td>\n      <td>True</td>\n      <td>True</td>\n    </tr>\n  </tbody>\n</table>\n</div>",
            "text/plain": "   patient_id  symptoms_days_per_week  symptoms_consecutive_weeks  \\\n0      111146                       5                           5   \n1      557338                       6                           4   \n2      195382                       3                           3   \n3      815771                       5                           4   \n4      534257                       5                           5   \n\n   troublesome_symptoms  disturbed_sleep  personal_activities_impaired  \\\n0                 False            False                         False   \n1                  True            False                         False   \n2                 False            False                         False   \n3                  True             True                          True   \n4                 False            False                          True   \n\n   work_impaired  \n0          False  \n1          False  \n2          False  \n3           True  \n4           True  "
          },
          "metadata": {}
        }
      ]
    },
    {
      "metadata": {},
      "cell_type": "markdown",
      "source": "So how should we work with this?\n"
    },
    {
      "metadata": {},
      "cell_type": "markdown",
      "source": "The classification system for allergic rhinitis described in the puzzle specification is unambiguous; patients with allergic rhinitis symptoms can only fit into one group. This makes automatically assigning a classification to symptoms relatively straightforward.\n\nIn this puzzle, we're only asked how many patients would be classified as having **moderate-to-severe**, **persistent** allergic rhinitis, so we don't have to go through and actually classify everyone to separate groups - we only need to check whether they satisfy the classification for this *particular* group. \n\nSince our data is in the form of many rows (corresponding to patient responses) of data, we can just think how we would classify *one* row, then apply that to every row, and then just sum the rows which satisfied our classification. This is probably very similar to how you'd solve this problem in Excel."
    },
    {
      "metadata": {},
      "cell_type": "markdown",
      "source": "So how would we classify one row? If we look at the specification of **moderate-to-severe**, **persistent** allergic rhinits, we can see the data would have to fulfill the following criteria:\n\n1. Symptoms on 4 or more days per week AND Symptoms for 4 or more consecutive weeks\n2. ANY (one or more of):\n    1. Troublesome symptoms\n    2. Sleep disturbance\n    3. Impairment of personal activities\n    4. Impairment of work activities"
    },
    {
      "metadata": {},
      "cell_type": "markdown",
      "source": "Looking at the rows from our DataFrame above, we can see we have all the information we need. In fact, it's pretty much a direct mapping!"
    },
    {
      "metadata": {},
      "cell_type": "markdown",
      "source": "Let's imagine we had a single row - could you write a function that takes that single row as input and returns `True` if they fit the classification for moderate-to-severe, persistent allergic rhiniti and `False` if not? We've provided a template below: try filling it out! (It looks like a lot, but most of that is just comments)"
    },
    {
      "metadata": {
        "trusted": true,
        "scrolled": true
      },
      "cell_type": "code",
      "source": "# The line below defines a function called is_mod_sev_persistent which takes an input, \n# which we will refer to as \"row\" in the body below\ndef is_mod_sev_persistent(row):\n    \n    # -----------------------------------------------------------------------------------------------\n    # FILL IN THE BLANK\n    # \n    # REPLACE the question marks ? with a value.\n    # e.g. replace ? with 4 or replace ? with row[\"column_name\"]\n    # \n    # There are FIVE question marks ? to replace below.\n    # -----------------------------------------------------------------------------------------------\n    # Extra notes:\n    # \n    # We can access the value of a column for a row using row.column or row[\"column\"].\n    # \n    # To classify the a row, we need to check if it fulfills or criteria or not.\n    #\n    # We can write this as an \"if else\" statement which works just like it sounds - if something is\n    # true, it continues and goes inside the if block, else it goes into the else block. So to \n    # return True (ie it is moderate-to-severe persistent), we put that inside the if block, and \n    # to return False otherwise, we put that inside the else block.\n    #\n    # Also note: the >= sign is the \"greater or equals\" sign.\n\n    \n    if (\n        row[\"symptoms_days_per_week\"]     >= ? and\n        row[\"symptoms_consecutive_weeks\"] >= ? and\n        any([\n            row[\"troublesome_symptoms\"],\n            row[\"disturbed_sleep\"],\n            ?,\n            ?\n        ])):\n            return ?\n    else:\n        return False",
      "execution_count": null,
      "outputs": []
    },
    {
      "metadata": {},
      "cell_type": "markdown",
      "source": "You should complete the above exercise before moving on (and remember to press `Shift-Enter`!) - it should execute without any errors."
    },
    {
      "metadata": {},
      "cell_type": "markdown",
      "source": "You'll notice the above is almost word-for-word what the criteria states. The `any` function takes a list of True or False values, and returns True if any of them are True or False if they're all False - exactly like the criteria states!"
    },
    {
      "metadata": {},
      "cell_type": "markdown",
      "source": "Now that we've defined how to check one row, let's try it on one row! Remember we can access a row with `df.iloc[i]` for some integer `i`. So we can apply the function on say the first row (at location or *index* 0):"
    },
    {
      "metadata": {
        "trusted": true
      },
      "cell_type": "code",
      "source": "is_mod_sev_persistent(df.iloc[0])",
      "execution_count": null,
      "outputs": []
    },
    {
      "metadata": {},
      "cell_type": "markdown",
      "source": "And on the second row:"
    },
    {
      "metadata": {
        "trusted": true
      },
      "cell_type": "code",
      "source": "is_mod_sev_persistent(df.iloc[1])",
      "execution_count": null,
      "outputs": []
    },
    {
      "metadata": {},
      "cell_type": "markdown",
      "source": "As a sanity check, the first should return `False` and the second should return `True` without any errors. If there's an error or it returns something else, you'll need to go back up and fix the definition of `is_mod_sev_persistent`. We can't guarantee whether you've got the correct classification function based on just these two rows alone, but at least you've got it to run!"
    },
    {
      "metadata": {},
      "cell_type": "markdown",
      "source": "Now all we need to do is apply this to the DataFrame (which will transform each row into a True or False value) and sum over all the rows. This is fairly easy with Pandas, which supplies a function called `apply`. The apply function does just what it sounds - it \"applies\" the function to each row or column. To specify whether it applies the function on rows or on columns, we simply need to pass it an extra input or *argument* called \"axis\" - an axis of 0 applies it \"across\" (i.e. applies it progressively through the row or *index* axis, taking a column slice) and an axis of 1 applies it \"downwards\" (i.e. applies it progressively through the column axis, taking a row or *index* slice). All this information is available from the documentation from `apply`."
    },
    {
      "metadata": {},
      "cell_type": "markdown",
      "source": "> As a side note: if you're ever unsure about what functions a library offers or how to use them, you can always check the documentation! The Pandas documentation for the `apply` function, for example, is available [here](https://pandas.pydata.org/pandas-docs/stable/reference/api/pandas.DataFrame.apply.html). Documentation is an incredibly useful resource and you'll often find it answers questions you didn't know you had if you take a good look! \n\n> Alternatively, you can print it right from inside Jupyter usnig the help() function."
    },
    {
      "metadata": {},
      "cell_type": "markdown",
      "source": "Since our function takes a row, we want to apply it \"downwards\" and give the function a row slice. This means we'll use `axis = 1` with apply.\n\nAfter we've done that, we can simply `sum` over all the rows. This is again really simple with Pandas. All we need to do is called the `sum()` function on the DataFrame.\n\nWe can put these two together straight after each other to \"chain\" them, which makes the remainder of our solution one simple line. Remember what value `axis` had to be? Make axis equal that value in the line below! \n"
    },
    {
      "metadata": {
        "trusted": true,
        "scrolled": true
      },
      "cell_type": "code",
      "source": "# -----------------------------------------------------------------------------------------------\n# FILL IN THE BLANK\n# Replace the question mark ? in axis=? with a value.\n# -----------------------------------------------------------------------------------------------\n\ndf.apply(is_mod_sev_persistent, axis=?).sum()",
      "execution_count": null,
      "outputs": []
    },
    {
      "metadata": {},
      "cell_type": "markdown",
      "source": "You should have a four digit number as the output - if so, hooray! Try submitting it - hopefully it's the correct one!\n\nIf not, or you get an error, you've gone astray somewhere. Have a look to see if you've made any obvious mistakes. If you're still having trouble, feel free to contact us and we can help point you in the right direction!"
    },
    {
      "metadata": {},
      "cell_type": "markdown",
      "source": "## Further Resources\n\nPandas is a really great tool, especially if you're doing any data analysis or plotting.\n\nHere are some useful links:\n\n- [Pandas documentation](https://pandas.pydata.org/pandas-docs/stable/index.html)\n- [10 Minutes to Pandas](https://pandas.pydata.org/pandas-docs/stable/getting_started/10min.html#min)\n- [Pandas cookbook](https://pandas.pydata.org/pandas-docs/stable/user_guide/cookbook.html#cookbook)\n- [Python for Data Science](http://wavedatalab.github.io/datawithpython/munge.html)"
    }
  ],
  "metadata": {
    "kernelspec": {
      "name": "python36",
      "display_name": "Python 3.6",
      "language": "python"
    },
    "language_info": {
      "mimetype": "text/x-python",
      "nbconvert_exporter": "python",
      "name": "python",
      "pygments_lexer": "ipython3",
      "version": "3.6.6",
      "file_extension": ".py",
      "codemirror_mode": {
        "version": 3,
        "name": "ipython"
      }
    }
  },
  "nbformat": 4,
  "nbformat_minor": 2
}